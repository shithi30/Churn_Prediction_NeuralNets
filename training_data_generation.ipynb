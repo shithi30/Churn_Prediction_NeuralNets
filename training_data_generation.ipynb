{
 "cells": [
  {
   "cell_type": "code",
   "execution_count": 1,
   "metadata": {},
   "outputs": [],
   "source": [
    "# importing necessary libraries\n",
    "import numpy as np\n",
    "import pandas as pd\n",
    "import math\n",
    "from sqlalchemy import create_engine\n",
    "import datetime\n",
    "import time\n",
    "import psycopg2\n",
    "from psycopg2 import Error"
   ]
  },
  {
   "cell_type": "code",
   "execution_count": 2,
   "metadata": {},
   "outputs": [
    {
     "name": "stdout",
     "output_type": "stream",
     "text": [
      "Dataset generated: 1\n",
      "Dataset generated: 2\n",
      "Dataset generated: 3\n",
      "Dataset generated: 4\n",
      "Dataset generated: 5\n",
      "\n",
      "PostgreSQL connection is safely closed.\n"
     ]
    }
   ],
   "source": [
    "try:\n",
    "    # connecting to DB \n",
    "    connection=psycopg2.connect(user=\"shithi\", password=\"tallykhata03012021_1234\", host=\"192.168.168.52\", port=\"5432\", database=\"tallykhata\")\n",
    "    cursor=connection.cursor()\n",
    "    \n",
    "    # generating k-fold training data\n",
    "    for i in range(5):\n",
    "    \n",
    "        # extracting data\n",
    "        postgres_query='''\n",
    "        -- building training/test dataset\n",
    "        select \n",
    "            -- identifier\n",
    "            mobile_no, \n",
    "            -- features\n",
    "            days_with_tk, \n",
    "            week_2_active_days, week_3_active_days, \n",
    "            week_2_trt, week_3_trt, \n",
    "            week_2_tacs, week_3_tacs, \n",
    "            week_2_roam_days, week_3_roam_days, \n",
    "            week_2_spent_sec, week_3_spent_sec, \n",
    "            -- labels\n",
    "            churn_cat\n",
    "        from\n",
    "            (select *, row_number() over(partition by churn_cat order by random()) seq\n",
    "            from data_vajapora.help_e\n",
    "            ) tbl1\n",
    "        where \n",
    "            (churn_cat=1 and seq<=20000)\n",
    "            or \n",
    "            (churn_cat=0 and seq<=60000)\n",
    "        order by random(); \n",
    "        '''\n",
    "        cursor.execute(postgres_query)\n",
    "\n",
    "        # writing the data to a csv\n",
    "        colnames=[desc[0] for desc in cursor.description]\n",
    "        df_fetched=pd.DataFrame(cursor.fetchall(), columns=colnames)\n",
    "        df_fetched.to_csv(\"daily_churn_pred_3_\"+str(i+1)+\".csv\", index=False)\n",
    "        \n",
    "        print(\"Dataset generated: \"+str(i+1))\n",
    "    \n",
    "# handling exception\n",
    "except (Exception, psycopg2.Error) as error:\n",
    "    print(\"Error!\", error)\n",
    "    \n",
    "# closing connection to DB\n",
    "finally:\n",
    "    if(connection):\n",
    "        cursor.close()\n",
    "        connection.close()\n",
    "        print(\"\\nPostgreSQL connection is safely closed.\")"
   ]
  },
  {
   "cell_type": "code",
   "execution_count": null,
   "metadata": {},
   "outputs": [],
   "source": []
  },
  {
   "cell_type": "code",
   "execution_count": null,
   "metadata": {},
   "outputs": [],
   "source": []
  }
 ],
 "metadata": {
  "kernelspec": {
   "display_name": "Python 3 (ipykernel)",
   "language": "python",
   "name": "python3"
  },
  "language_info": {
   "codemirror_mode": {
    "name": "ipython",
    "version": 3
   },
   "file_extension": ".py",
   "mimetype": "text/x-python",
   "name": "python",
   "nbconvert_exporter": "python",
   "pygments_lexer": "ipython3",
   "version": "3.11.7"
  }
 },
 "nbformat": 4,
 "nbformat_minor": 4
}
